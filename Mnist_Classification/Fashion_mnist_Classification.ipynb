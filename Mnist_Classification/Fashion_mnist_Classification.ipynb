{
  "nbformat": 4,
  "nbformat_minor": 0,
  "metadata": {
    "colab": {
      "name": "Fashion_mnist_Classification.ipynb",
      "provenance": []
    },
    "kernelspec": {
      "name": "python3",
      "display_name": "Python 3"
    },
    "language_info": {
      "name": "python"
    }
  },
  "cells": [
    {
      "cell_type": "code",
      "execution_count": 1,
      "metadata": {
        "id": "28poYhPgUVkl"
      },
      "outputs": [],
      "source": [
        "import tensorflow as tf\n",
        "from tensorflow import keras"
      ]
    },
    {
      "cell_type": "code",
      "source": [
        "# Load the dataset\n",
        "fashion_mnist = tf.keras.datasets.fashion_mnist"
      ],
      "metadata": {
        "id": "fQP1AJfS7zFA"
      },
      "execution_count": 2,
      "outputs": []
    },
    {
      "cell_type": "code",
      "source": [
        "# split the data into training and testing dataset\n",
        "(x_train, y_train), (x_test, y_test) = fashion_mnist.load_data()\n",
        "print(x_train.shape)\n",
        "print(y_train.shape)\n",
        "print(x_test.shape)\n",
        "print(y_test.shape)"
      ],
      "metadata": {
        "colab": {
          "base_uri": "https://localhost:8080/"
        },
        "id": "5NtSF6Qq84jI",
        "outputId": "2116a66d-3e9f-4c20-cd84-a7eb038f150e"
      },
      "execution_count": 3,
      "outputs": [
        {
          "output_type": "stream",
          "name": "stdout",
          "text": [
            "Downloading data from https://storage.googleapis.com/tensorflow/tf-keras-datasets/train-labels-idx1-ubyte.gz\n",
            "32768/29515 [=================================] - 0s 0us/step\n",
            "40960/29515 [=========================================] - 0s 0us/step\n",
            "Downloading data from https://storage.googleapis.com/tensorflow/tf-keras-datasets/train-images-idx3-ubyte.gz\n",
            "26427392/26421880 [==============================] - 0s 0us/step\n",
            "26435584/26421880 [==============================] - 0s 0us/step\n",
            "Downloading data from https://storage.googleapis.com/tensorflow/tf-keras-datasets/t10k-labels-idx1-ubyte.gz\n",
            "16384/5148 [===============================================================================================] - 0s 0us/step\n",
            "Downloading data from https://storage.googleapis.com/tensorflow/tf-keras-datasets/t10k-images-idx3-ubyte.gz\n",
            "4423680/4422102 [==============================] - 0s 0us/step\n",
            "4431872/4422102 [==============================] - 0s 0us/step\n",
            "(60000, 28, 28)\n",
            "(60000,)\n",
            "(10000, 28, 28)\n",
            "(10000,)\n"
          ]
        }
      ]
    },
    {
      "cell_type": "code",
      "source": [
        "x_train[0].shape"
      ],
      "metadata": {
        "colab": {
          "base_uri": "https://localhost:8080/"
        },
        "id": "tPqAeIEl-Ub9",
        "outputId": "d3c283ab-1191-4365-f540-85cc5befecc4"
      },
      "execution_count": 5,
      "outputs": [
        {
          "output_type": "execute_result",
          "data": {
            "text/plain": [
              "(28, 28)"
            ]
          },
          "metadata": {},
          "execution_count": 5
        }
      ]
    },
    {
      "cell_type": "code",
      "source": [
        "x_train.min(), x_train.max()"
      ],
      "metadata": {
        "colab": {
          "base_uri": "https://localhost:8080/"
        },
        "id": "9PxoPVHo-Yr1",
        "outputId": "221009d5-482e-44f1-cdcb-120d89dae30e"
      },
      "execution_count": 10,
      "outputs": [
        {
          "output_type": "execute_result",
          "data": {
            "text/plain": [
              "(0, 255)"
            ]
          },
          "metadata": {},
          "execution_count": 10
        }
      ]
    },
    {
      "cell_type": "code",
      "source": [
        "y_train.min(), y_train.max(0)"
      ],
      "metadata": {
        "colab": {
          "base_uri": "https://localhost:8080/"
        },
        "id": "mWwBdmvF_tbM",
        "outputId": "2df30849-a7b0-41bf-b43e-9f4f5b04dc1b"
      },
      "execution_count": 12,
      "outputs": [
        {
          "output_type": "execute_result",
          "data": {
            "text/plain": [
              "(0, 9)"
            ]
          },
          "metadata": {},
          "execution_count": 12
        }
      ]
    },
    {
      "cell_type": "code",
      "source": [
        "# Reshape the array to 4 dimensions\n",
        "x_train = x_train.reshape(x_train.shape[0], 28, 28, 1)\n",
        "x_test = x_test.reshape(x_test.shape[0], 28, 28, 1)\n",
        "# change the data type to float\n",
        "x_train = x_train.astype('float32')\n",
        "x_test = x_test.astype('float32')\n",
        "# Normalization\n",
        "x_train /= 255\n",
        "x_test /= 255\n",
        "x_train.shape"
      ],
      "metadata": {
        "colab": {
          "base_uri": "https://localhost:8080/"
        },
        "id": "naLfzBol-RCB",
        "outputId": "e9d3a9d6-7a85-4369-c4e3-db561657c095"
      },
      "execution_count": 14,
      "outputs": [
        {
          "output_type": "execute_result",
          "data": {
            "text/plain": [
              "(60000, 28, 28, 1)"
            ]
          },
          "metadata": {},
          "execution_count": 14
        }
      ]
    },
    {
      "cell_type": "markdown",
      "source": [
        "### CNN model"
      ],
      "metadata": {
        "id": "g-FmQp6pP_kV"
      }
    },
    {
      "cell_type": "code",
      "source": [
        "# CNN model\n",
        "model = tf.keras.Sequential()\n",
        "model.add(tf.keras.layers.Conv2D(28, kernel_size=(3, 3), input_shape=(28, 28, 1)))\n",
        "model.add(tf.keras.layers.MaxPooling2D(pool_size=(2, 2)))\n",
        "model.add(tf.keras.layers.Flatten())\n",
        "model.add(tf.keras.layers.Dense(128, activation=\"relu\"))\n",
        "model.add(tf.keras.layers.Dropout(0.2))\n",
        "model.add(tf.keras.layers.Dense(10, activation=\"softmax\"))\n",
        "\n",
        "model.summary()"
      ],
      "metadata": {
        "colab": {
          "base_uri": "https://localhost:8080/"
        },
        "id": "7MaQWzbcD0oz",
        "outputId": "d05d78fb-c659-447c-b40b-43c552c5d4b2"
      },
      "execution_count": 17,
      "outputs": [
        {
          "output_type": "stream",
          "name": "stdout",
          "text": [
            "Model: \"sequential_1\"\n",
            "_________________________________________________________________\n",
            " Layer (type)                Output Shape              Param #   \n",
            "=================================================================\n",
            " conv2d_1 (Conv2D)           (None, 26, 26, 28)        280       \n",
            "                                                                 \n",
            " max_pooling2d_1 (MaxPooling  (None, 13, 13, 28)       0         \n",
            " 2D)                                                             \n",
            "                                                                 \n",
            " flatten_1 (Flatten)         (None, 4732)              0         \n",
            "                                                                 \n",
            " dense_2 (Dense)             (None, 128)               605824    \n",
            "                                                                 \n",
            " dropout_1 (Dropout)         (None, 128)               0         \n",
            "                                                                 \n",
            " dense_3 (Dense)             (None, 10)                1290      \n",
            "                                                                 \n",
            "=================================================================\n",
            "Total params: 607,394\n",
            "Trainable params: 607,394\n",
            "Non-trainable params: 0\n",
            "_________________________________________________________________\n"
          ]
        }
      ]
    },
    {
      "cell_type": "code",
      "source": [
        "model.compile(loss='sparse_categorical_crossentropy', optimizer=tf.keras.optimizers.Adam(), metrics=['accuracy'])\n",
        "\n",
        "model.fit(x=x_train, y=y_train, epochs=20)"
      ],
      "metadata": {
        "colab": {
          "base_uri": "https://localhost:8080/"
        },
        "id": "pfmiH8rvFQaW",
        "outputId": "2b36df8b-b186-466e-dfe7-ec4b92f80e04"
      },
      "execution_count": 18,
      "outputs": [
        {
          "output_type": "stream",
          "name": "stdout",
          "text": [
            "Epoch 1/20\n",
            "1875/1875 [==============================] - 32s 17ms/step - loss: 0.7593 - accuracy: 0.7270\n",
            "Epoch 2/20\n",
            "1875/1875 [==============================] - 31s 17ms/step - loss: 0.4718 - accuracy: 0.8279\n",
            "Epoch 3/20\n",
            "1875/1875 [==============================] - 32s 17ms/step - loss: 0.4153 - accuracy: 0.8511\n",
            "Epoch 4/20\n",
            "1875/1875 [==============================] - 31s 17ms/step - loss: 0.3852 - accuracy: 0.8602\n",
            "Epoch 5/20\n",
            "1875/1875 [==============================] - 33s 17ms/step - loss: 0.3640 - accuracy: 0.8683\n",
            "Epoch 6/20\n",
            "1875/1875 [==============================] - 32s 17ms/step - loss: 0.3495 - accuracy: 0.8732\n",
            "Epoch 7/20\n",
            "1875/1875 [==============================] - 32s 17ms/step - loss: 0.3393 - accuracy: 0.8767\n",
            "Epoch 8/20\n",
            "1875/1875 [==============================] - 32s 17ms/step - loss: 0.3289 - accuracy: 0.8803\n",
            "Epoch 9/20\n",
            "1875/1875 [==============================] - 33s 17ms/step - loss: 0.3194 - accuracy: 0.8844\n",
            "Epoch 10/20\n",
            "1875/1875 [==============================] - 33s 17ms/step - loss: 0.3122 - accuracy: 0.8864\n",
            "Epoch 11/20\n",
            "1875/1875 [==============================] - 33s 17ms/step - loss: 0.3041 - accuracy: 0.8888\n",
            "Epoch 12/20\n",
            "1875/1875 [==============================] - 34s 18ms/step - loss: 0.3003 - accuracy: 0.8898\n",
            "Epoch 13/20\n",
            "1875/1875 [==============================] - 33s 18ms/step - loss: 0.2929 - accuracy: 0.8913\n",
            "Epoch 14/20\n",
            "1875/1875 [==============================] - 33s 18ms/step - loss: 0.2862 - accuracy: 0.8936\n",
            "Epoch 15/20\n",
            "1875/1875 [==============================] - 34s 18ms/step - loss: 0.2793 - accuracy: 0.8976\n",
            "Epoch 16/20\n",
            "1875/1875 [==============================] - 34s 18ms/step - loss: 0.2741 - accuracy: 0.8991\n",
            "Epoch 17/20\n",
            "1875/1875 [==============================] - 34s 18ms/step - loss: 0.2682 - accuracy: 0.9009\n",
            "Epoch 18/20\n",
            "1875/1875 [==============================] - 36s 19ms/step - loss: 0.2641 - accuracy: 0.9022\n",
            "Epoch 19/20\n",
            "1875/1875 [==============================] - 35s 19ms/step - loss: 0.2576 - accuracy: 0.9045\n",
            "Epoch 20/20\n",
            "1875/1875 [==============================] - 35s 18ms/step - loss: 0.2531 - accuracy: 0.9067\n"
          ]
        },
        {
          "output_type": "execute_result",
          "data": {
            "text/plain": [
              "<keras.callbacks.History at 0x7f02ae2c2e10>"
            ]
          },
          "metadata": {},
          "execution_count": 18
        }
      ]
    },
    {
      "cell_type": "markdown",
      "source": [
        "### Dense Model"
      ],
      "metadata": {
        "id": "jPcqJK5QL9av"
      }
    },
    {
      "cell_type": "code",
      "source": [
        "# Dense model\n",
        "model2 = tf.keras.Sequential()\n",
        "model2.add(tf.keras.layers.Flatten(input_shape=(28, 28)))\n",
        "model2.add(tf.keras.layers.Dense(128, activation='relu'))\n",
        "model2.add(tf.keras.layers.Dense(10))"
      ],
      "metadata": {
        "id": "4Ci1738KL_ew"
      },
      "execution_count": 19,
      "outputs": []
    },
    {
      "cell_type": "code",
      "source": [
        "model2.compile(optimizer='adam', loss=tf.keras.losses.SparseCategoricalCrossentropy(from_logits=True), metrics=['accuracy'])"
      ],
      "metadata": {
        "id": "6Ak5pBROM3-i"
      },
      "execution_count": 20,
      "outputs": []
    },
    {
      "cell_type": "code",
      "source": [
        "model2.fit(x_train, y_train, epochs=20)"
      ],
      "metadata": {
        "colab": {
          "base_uri": "https://localhost:8080/"
        },
        "id": "qcC67O9_NF8z",
        "outputId": "049362f9-de15-46c9-8050-5990c7d04340"
      },
      "execution_count": 22,
      "outputs": [
        {
          "output_type": "stream",
          "name": "stdout",
          "text": [
            "Epoch 1/20\n",
            "1875/1875 [==============================] - 5s 3ms/step - loss: 0.4201 - accuracy: 0.8521\n",
            "Epoch 2/20\n",
            "1875/1875 [==============================] - 5s 3ms/step - loss: 0.4137 - accuracy: 0.8545\n",
            "Epoch 3/20\n",
            "1875/1875 [==============================] - 5s 3ms/step - loss: 0.4086 - accuracy: 0.8564\n",
            "Epoch 4/20\n",
            "1875/1875 [==============================] - 5s 3ms/step - loss: 0.4036 - accuracy: 0.8578\n",
            "Epoch 5/20\n",
            "1875/1875 [==============================] - 5s 3ms/step - loss: 0.3982 - accuracy: 0.8598\n",
            "Epoch 6/20\n",
            "1875/1875 [==============================] - 5s 3ms/step - loss: 0.3940 - accuracy: 0.8618\n",
            "Epoch 7/20\n",
            "1875/1875 [==============================] - 5s 3ms/step - loss: 0.3899 - accuracy: 0.8616\n",
            "Epoch 8/20\n",
            "1875/1875 [==============================] - 5s 3ms/step - loss: 0.3858 - accuracy: 0.8642\n",
            "Epoch 9/20\n",
            "1875/1875 [==============================] - 5s 3ms/step - loss: 0.3819 - accuracy: 0.8652\n",
            "Epoch 10/20\n",
            "1875/1875 [==============================] - 5s 3ms/step - loss: 0.3785 - accuracy: 0.8656\n",
            "Epoch 11/20\n",
            "1875/1875 [==============================] - 5s 3ms/step - loss: 0.3756 - accuracy: 0.8669\n",
            "Epoch 12/20\n",
            "1875/1875 [==============================] - 5s 3ms/step - loss: 0.3719 - accuracy: 0.8676\n",
            "Epoch 13/20\n",
            "1875/1875 [==============================] - 5s 3ms/step - loss: 0.3683 - accuracy: 0.8697\n",
            "Epoch 14/20\n",
            "1875/1875 [==============================] - 5s 3ms/step - loss: 0.3660 - accuracy: 0.8714\n",
            "Epoch 15/20\n",
            "1875/1875 [==============================] - 5s 3ms/step - loss: 0.3629 - accuracy: 0.8721\n",
            "Epoch 16/20\n",
            "1875/1875 [==============================] - 5s 2ms/step - loss: 0.3596 - accuracy: 0.8725\n",
            "Epoch 17/20\n",
            "1875/1875 [==============================] - 5s 3ms/step - loss: 0.3575 - accuracy: 0.8724\n",
            "Epoch 18/20\n",
            "1875/1875 [==============================] - 5s 3ms/step - loss: 0.3547 - accuracy: 0.8735\n",
            "Epoch 19/20\n",
            "1875/1875 [==============================] - 5s 3ms/step - loss: 0.3520 - accuracy: 0.8757\n",
            "Epoch 20/20\n",
            "1875/1875 [==============================] - 5s 3ms/step - loss: 0.3492 - accuracy: 0.8756\n"
          ]
        },
        {
          "output_type": "execute_result",
          "data": {
            "text/plain": [
              "<keras.callbacks.History at 0x7f02ae15d210>"
            ]
          },
          "metadata": {},
          "execution_count": 22
        }
      ]
    },
    {
      "cell_type": "code",
      "source": [
        "loss, accuracy = model2.evaluate(x_test, y_test ,verbose=2)\n",
        "loss, accuracy"
      ],
      "metadata": {
        "colab": {
          "base_uri": "https://localhost:8080/"
        },
        "id": "8lQZcyVOO5UM",
        "outputId": "3f958c59-9187-47c2-fee1-8a62f4fec583"
      },
      "execution_count": 23,
      "outputs": [
        {
          "output_type": "stream",
          "name": "stdout",
          "text": [
            "313/313 - 1s - loss: 0.3954 - accuracy: 0.8569 - 505ms/epoch - 2ms/step\n"
          ]
        },
        {
          "output_type": "execute_result",
          "data": {
            "text/plain": [
              "(0.3953801095485687, 0.8568999767303467)"
            ]
          },
          "metadata": {},
          "execution_count": 23
        }
      ]
    }
  ]
}